{
 "cells": [
  {
   "cell_type": "markdown",
   "id": "6f1fe2f3",
   "metadata": {},
   "source": [
    "# Classwork Notes\n",
    "\n",
    "Web crawling using Trafilatura. \n",
    "\n"
   ]
  },
  {
   "cell_type": "code",
   "execution_count": 1,
   "id": "6fdec10d",
   "metadata": {},
   "outputs": [
    {
     "name": "stdout",
     "output_type": "stream",
     "text": [
      "Requirement already satisfied: requests in /home/iankt/inference.ai/homework/MLE_HW_Ian_Too/.venv/lib/python3.12/site-packages (2.32.5)\n",
      "Requirement already satisfied: trafilatura[all] in /home/iankt/inference.ai/homework/MLE_HW_Ian_Too/.venv/lib/python3.12/site-packages (2.0.0)\n",
      "Requirement already satisfied: certifi in /home/iankt/inference.ai/homework/MLE_HW_Ian_Too/.venv/lib/python3.12/site-packages (from trafilatura[all]) (2025.10.5)\n",
      "Requirement already satisfied: charset_normalizer>=3.4.0 in /home/iankt/inference.ai/homework/MLE_HW_Ian_Too/.venv/lib/python3.12/site-packages (from trafilatura[all]) (3.4.3)\n",
      "Requirement already satisfied: courlan>=1.3.2 in /home/iankt/inference.ai/homework/MLE_HW_Ian_Too/.venv/lib/python3.12/site-packages (from trafilatura[all]) (1.3.2)\n",
      "Requirement already satisfied: htmldate>=1.9.2 in /home/iankt/inference.ai/homework/MLE_HW_Ian_Too/.venv/lib/python3.12/site-packages (from trafilatura[all]) (1.9.3)\n",
      "Requirement already satisfied: justext>=3.0.1 in /home/iankt/inference.ai/homework/MLE_HW_Ian_Too/.venv/lib/python3.12/site-packages (from trafilatura[all]) (3.0.2)\n",
      "Requirement already satisfied: lxml>=5.3.0 in /home/iankt/inference.ai/homework/MLE_HW_Ian_Too/.venv/lib/python3.12/site-packages (from trafilatura[all]) (5.4.0)\n",
      "Requirement already satisfied: urllib3<3,>=1.26 in /home/iankt/inference.ai/homework/MLE_HW_Ian_Too/.venv/lib/python3.12/site-packages (from trafilatura[all]) (2.5.0)\n",
      "Requirement already satisfied: brotli in /home/iankt/inference.ai/homework/MLE_HW_Ian_Too/.venv/lib/python3.12/site-packages (from trafilatura[all]) (1.1.0)\n",
      "Requirement already satisfied: faust-cchardet>=2.1.19 in /home/iankt/inference.ai/homework/MLE_HW_Ian_Too/.venv/lib/python3.12/site-packages (from trafilatura[all]) (2.1.19)\n",
      "Requirement already satisfied: py3langid>=0.3.0 in /home/iankt/inference.ai/homework/MLE_HW_Ian_Too/.venv/lib/python3.12/site-packages (from trafilatura[all]) (0.3.0)\n",
      "Requirement already satisfied: pycurl>=7.45.3 in /home/iankt/inference.ai/homework/MLE_HW_Ian_Too/.venv/lib/python3.12/site-packages (from trafilatura[all]) (7.45.7)\n",
      "Requirement already satisfied: zstandard>=0.23.0 in /home/iankt/inference.ai/homework/MLE_HW_Ian_Too/.venv/lib/python3.12/site-packages (from trafilatura[all]) (0.25.0)\n",
      "Requirement already satisfied: idna<4,>=2.5 in /home/iankt/inference.ai/homework/MLE_HW_Ian_Too/.venv/lib/python3.12/site-packages (from requests) (3.11)\n",
      "Requirement already satisfied: babel>=2.16.0 in /home/iankt/inference.ai/homework/MLE_HW_Ian_Too/.venv/lib/python3.12/site-packages (from courlan>=1.3.2->trafilatura[all]) (2.17.0)\n",
      "Requirement already satisfied: tld>=0.13 in /home/iankt/inference.ai/homework/MLE_HW_Ian_Too/.venv/lib/python3.12/site-packages (from courlan>=1.3.2->trafilatura[all]) (0.13.1)\n",
      "Requirement already satisfied: dateparser>=1.1.2 in /home/iankt/inference.ai/homework/MLE_HW_Ian_Too/.venv/lib/python3.12/site-packages (from htmldate>=1.9.2->trafilatura[all]) (1.2.2)\n",
      "Requirement already satisfied: python-dateutil>=2.9.0.post0 in /home/iankt/inference.ai/homework/MLE_HW_Ian_Too/.venv/lib/python3.12/site-packages (from htmldate>=1.9.2->trafilatura[all]) (2.9.0.post0)\n",
      "Requirement already satisfied: pytz>=2024.2 in /home/iankt/inference.ai/homework/MLE_HW_Ian_Too/.venv/lib/python3.12/site-packages (from dateparser>=1.1.2->htmldate>=1.9.2->trafilatura[all]) (2025.2)\n",
      "Requirement already satisfied: regex>=2024.9.11 in /home/iankt/inference.ai/homework/MLE_HW_Ian_Too/.venv/lib/python3.12/site-packages (from dateparser>=1.1.2->htmldate>=1.9.2->trafilatura[all]) (2025.9.18)\n",
      "Requirement already satisfied: tzlocal>=0.2 in /home/iankt/inference.ai/homework/MLE_HW_Ian_Too/.venv/lib/python3.12/site-packages (from dateparser>=1.1.2->htmldate>=1.9.2->trafilatura[all]) (5.3.1)\n",
      "Requirement already satisfied: lxml_html_clean in /home/iankt/inference.ai/homework/MLE_HW_Ian_Too/.venv/lib/python3.12/site-packages (from lxml[html_clean]>=4.4.2->justext>=3.0.1->trafilatura[all]) (0.4.3)\n",
      "Requirement already satisfied: numpy>=2.0.0 in /home/iankt/inference.ai/homework/MLE_HW_Ian_Too/.venv/lib/python3.12/site-packages (from py3langid>=0.3.0->trafilatura[all]) (2.2.6)\n",
      "Requirement already satisfied: six>=1.5 in /home/iankt/inference.ai/homework/MLE_HW_Ian_Too/.venv/lib/python3.12/site-packages (from python-dateutil>=2.9.0.post0->htmldate>=1.9.2->trafilatura[all]) (1.17.0)\n",
      "Requirement already satisfied: pysocks!=1.5.7,<2.0,>=1.5.6 in /home/iankt/inference.ai/homework/MLE_HW_Ian_Too/.venv/lib/python3.12/site-packages (from urllib3[socks]; extra == \"all\"->trafilatura[all]) (1.7.1)\n"
     ]
    }
   ],
   "source": [
    "# installing the package\n",
    "! pip install --upgrade trafilatura[all] requests"
   ]
  },
  {
   "cell_type": "markdown",
   "id": "b1c72739",
   "metadata": {},
   "source": [
    "Trafilatura helps simplifying the process of turning web pages into meaningful data."
   ]
  },
  {
   "cell_type": "code",
   "execution_count": 2,
   "id": "f6703082",
   "metadata": {},
   "outputs": [
    {
     "name": "stdout",
     "output_type": "stream",
     "text": [
      "<class 'str'>\n"
     ]
    }
   ],
   "source": [
    "from trafilatura import fetch_url, extract\n",
    "\n",
    "# grab the html file.\n",
    "downloaded_page = fetch_url(\"https://www.inference.ai/\")\n",
    "\n",
    "nation_africa_page = fetch_url(\"https://nation.africa/kenya\")\n",
    "\n",
    "# check what has been extracted\n",
    "results = extract(downloaded_page)\n",
    "\n",
    "nation_africa_result = extract(nation_africa_page)\n",
    "\n",
    "# print(results)\n",
    "\n",
    "print(type(nation_africa_result))"
   ]
  },
  {
   "cell_type": "code",
   "execution_count": 3,
   "id": "605d178f",
   "metadata": {},
   "outputs": [
    {
     "data": {
      "text/plain": [
       "''"
      ]
     },
     "execution_count": 3,
     "metadata": {},
     "output_type": "execute_result"
    }
   ],
   "source": [
    "from trafilatura import html2txt\n",
    "\n",
    "html2txt(nation_africa_result)"
   ]
  },
  {
   "cell_type": "markdown",
   "id": "72002e03",
   "metadata": {},
   "source": [
    "# OCR\n",
    "\n"
   ]
  },
  {
   "cell_type": "code",
   "execution_count": 4,
   "id": "77f57347",
   "metadata": {},
   "outputs": [
    {
     "name": "stdout",
     "output_type": "stream",
     "text": [
      "Requirement already satisfied: torch in /home/iankt/inference.ai/homework/MLE_HW_Ian_Too/.venv/lib/python3.12/site-packages (2.9.0)\n",
      "Requirement already satisfied: torchvision in /home/iankt/inference.ai/homework/MLE_HW_Ian_Too/.venv/lib/python3.12/site-packages (0.24.0)\n",
      "Requirement already satisfied: surya-ocr in /home/iankt/inference.ai/homework/MLE_HW_Ian_Too/.venv/lib/python3.12/site-packages (0.17.0)\n",
      "Requirement already satisfied: filelock in /home/iankt/inference.ai/homework/MLE_HW_Ian_Too/.venv/lib/python3.12/site-packages (from torch) (3.20.0)\n",
      "Requirement already satisfied: typing-extensions>=4.10.0 in /home/iankt/inference.ai/homework/MLE_HW_Ian_Too/.venv/lib/python3.12/site-packages (from torch) (4.15.0)\n",
      "Requirement already satisfied: setuptools in /home/iankt/inference.ai/homework/MLE_HW_Ian_Too/.venv/lib/python3.12/site-packages (from torch) (80.9.0)\n",
      "Requirement already satisfied: sympy>=1.13.3 in /home/iankt/inference.ai/homework/MLE_HW_Ian_Too/.venv/lib/python3.12/site-packages (from torch) (1.14.0)\n",
      "Requirement already satisfied: networkx>=2.5.1 in /home/iankt/inference.ai/homework/MLE_HW_Ian_Too/.venv/lib/python3.12/site-packages (from torch) (3.5)\n",
      "Requirement already satisfied: jinja2 in /home/iankt/inference.ai/homework/MLE_HW_Ian_Too/.venv/lib/python3.12/site-packages (from torch) (3.1.6)\n",
      "Requirement already satisfied: fsspec>=0.8.5 in /home/iankt/inference.ai/homework/MLE_HW_Ian_Too/.venv/lib/python3.12/site-packages (from torch) (2025.9.0)\n",
      "Requirement already satisfied: nvidia-cuda-nvrtc-cu12==12.8.93 in /home/iankt/inference.ai/homework/MLE_HW_Ian_Too/.venv/lib/python3.12/site-packages (from torch) (12.8.93)\n",
      "Requirement already satisfied: nvidia-cuda-runtime-cu12==12.8.90 in /home/iankt/inference.ai/homework/MLE_HW_Ian_Too/.venv/lib/python3.12/site-packages (from torch) (12.8.90)\n",
      "Requirement already satisfied: nvidia-cuda-cupti-cu12==12.8.90 in /home/iankt/inference.ai/homework/MLE_HW_Ian_Too/.venv/lib/python3.12/site-packages (from torch) (12.8.90)\n",
      "Requirement already satisfied: nvidia-cudnn-cu12==9.10.2.21 in /home/iankt/inference.ai/homework/MLE_HW_Ian_Too/.venv/lib/python3.12/site-packages (from torch) (9.10.2.21)\n",
      "Requirement already satisfied: nvidia-cublas-cu12==12.8.4.1 in /home/iankt/inference.ai/homework/MLE_HW_Ian_Too/.venv/lib/python3.12/site-packages (from torch) (12.8.4.1)\n",
      "Requirement already satisfied: nvidia-cufft-cu12==11.3.3.83 in /home/iankt/inference.ai/homework/MLE_HW_Ian_Too/.venv/lib/python3.12/site-packages (from torch) (11.3.3.83)\n",
      "Requirement already satisfied: nvidia-curand-cu12==10.3.9.90 in /home/iankt/inference.ai/homework/MLE_HW_Ian_Too/.venv/lib/python3.12/site-packages (from torch) (10.3.9.90)\n",
      "Requirement already satisfied: nvidia-cusolver-cu12==11.7.3.90 in /home/iankt/inference.ai/homework/MLE_HW_Ian_Too/.venv/lib/python3.12/site-packages (from torch) (11.7.3.90)\n",
      "Requirement already satisfied: nvidia-cusparse-cu12==12.5.8.93 in /home/iankt/inference.ai/homework/MLE_HW_Ian_Too/.venv/lib/python3.12/site-packages (from torch) (12.5.8.93)\n",
      "Requirement already satisfied: nvidia-cusparselt-cu12==0.7.1 in /home/iankt/inference.ai/homework/MLE_HW_Ian_Too/.venv/lib/python3.12/site-packages (from torch) (0.7.1)\n",
      "Requirement already satisfied: nvidia-nccl-cu12==2.27.5 in /home/iankt/inference.ai/homework/MLE_HW_Ian_Too/.venv/lib/python3.12/site-packages (from torch) (2.27.5)\n",
      "Requirement already satisfied: nvidia-nvshmem-cu12==3.3.20 in /home/iankt/inference.ai/homework/MLE_HW_Ian_Too/.venv/lib/python3.12/site-packages (from torch) (3.3.20)\n",
      "Requirement already satisfied: nvidia-nvtx-cu12==12.8.90 in /home/iankt/inference.ai/homework/MLE_HW_Ian_Too/.venv/lib/python3.12/site-packages (from torch) (12.8.90)\n",
      "Requirement already satisfied: nvidia-nvjitlink-cu12==12.8.93 in /home/iankt/inference.ai/homework/MLE_HW_Ian_Too/.venv/lib/python3.12/site-packages (from torch) (12.8.93)\n",
      "Requirement already satisfied: nvidia-cufile-cu12==1.13.1.3 in /home/iankt/inference.ai/homework/MLE_HW_Ian_Too/.venv/lib/python3.12/site-packages (from torch) (1.13.1.3)\n",
      "Requirement already satisfied: triton==3.5.0 in /home/iankt/inference.ai/homework/MLE_HW_Ian_Too/.venv/lib/python3.12/site-packages (from torch) (3.5.0)\n",
      "Requirement already satisfied: numpy in /home/iankt/inference.ai/homework/MLE_HW_Ian_Too/.venv/lib/python3.12/site-packages (from torchvision) (2.2.6)\n",
      "Requirement already satisfied: pillow!=8.3.*,>=5.3.0 in /home/iankt/inference.ai/homework/MLE_HW_Ian_Too/.venv/lib/python3.12/site-packages (from torchvision) (10.4.0)\n",
      "Requirement already satisfied: click<9.0.0,>=8.1.8 in /home/iankt/inference.ai/homework/MLE_HW_Ian_Too/.venv/lib/python3.12/site-packages (from surya-ocr) (8.3.0)\n",
      "Requirement already satisfied: einops<0.9.0,>=0.8.1 in /home/iankt/inference.ai/homework/MLE_HW_Ian_Too/.venv/lib/python3.12/site-packages (from surya-ocr) (0.8.1)\n",
      "Requirement already satisfied: filetype<2.0.0,>=1.2.0 in /home/iankt/inference.ai/homework/MLE_HW_Ian_Too/.venv/lib/python3.12/site-packages (from surya-ocr) (1.2.0)\n",
      "Requirement already satisfied: opencv-python-headless==4.11.0.86 in /home/iankt/inference.ai/homework/MLE_HW_Ian_Too/.venv/lib/python3.12/site-packages (from surya-ocr) (4.11.0.86)\n",
      "Requirement already satisfied: platformdirs<5.0.0,>=4.3.6 in /home/iankt/inference.ai/homework/MLE_HW_Ian_Too/.venv/lib/python3.12/site-packages (from surya-ocr) (4.5.0)\n",
      "Requirement already satisfied: pre-commit<5.0.0,>=4.2.0 in /home/iankt/inference.ai/homework/MLE_HW_Ian_Too/.venv/lib/python3.12/site-packages (from surya-ocr) (4.3.0)\n",
      "Requirement already satisfied: pydantic<3.0.0,>=2.5.3 in /home/iankt/inference.ai/homework/MLE_HW_Ian_Too/.venv/lib/python3.12/site-packages (from surya-ocr) (2.11.10)\n",
      "Requirement already satisfied: pydantic-settings<3.0.0,>=2.1.0 in /home/iankt/inference.ai/homework/MLE_HW_Ian_Too/.venv/lib/python3.12/site-packages (from surya-ocr) (2.11.0)\n",
      "Requirement already satisfied: pypdfium2==4.30.0 in /home/iankt/inference.ai/homework/MLE_HW_Ian_Too/.venv/lib/python3.12/site-packages (from surya-ocr) (4.30.0)\n",
      "Requirement already satisfied: python-dotenv<2.0.0,>=1.0.0 in /home/iankt/inference.ai/homework/MLE_HW_Ian_Too/.venv/lib/python3.12/site-packages (from surya-ocr) (1.1.1)\n",
      "Requirement already satisfied: transformers>=4.56.1 in /home/iankt/inference.ai/homework/MLE_HW_Ian_Too/.venv/lib/python3.12/site-packages (from surya-ocr) (4.57.1)\n",
      "Requirement already satisfied: cfgv>=2.0.0 in /home/iankt/inference.ai/homework/MLE_HW_Ian_Too/.venv/lib/python3.12/site-packages (from pre-commit<5.0.0,>=4.2.0->surya-ocr) (3.4.0)\n",
      "Requirement already satisfied: identify>=1.0.0 in /home/iankt/inference.ai/homework/MLE_HW_Ian_Too/.venv/lib/python3.12/site-packages (from pre-commit<5.0.0,>=4.2.0->surya-ocr) (2.6.15)\n",
      "Requirement already satisfied: nodeenv>=0.11.1 in /home/iankt/inference.ai/homework/MLE_HW_Ian_Too/.venv/lib/python3.12/site-packages (from pre-commit<5.0.0,>=4.2.0->surya-ocr) (1.9.1)\n",
      "Requirement already satisfied: pyyaml>=5.1 in /home/iankt/inference.ai/homework/MLE_HW_Ian_Too/.venv/lib/python3.12/site-packages (from pre-commit<5.0.0,>=4.2.0->surya-ocr) (6.0.3)\n",
      "Requirement already satisfied: virtualenv>=20.10.0 in /home/iankt/inference.ai/homework/MLE_HW_Ian_Too/.venv/lib/python3.12/site-packages (from pre-commit<5.0.0,>=4.2.0->surya-ocr) (20.35.3)\n",
      "Requirement already satisfied: annotated-types>=0.6.0 in /home/iankt/inference.ai/homework/MLE_HW_Ian_Too/.venv/lib/python3.12/site-packages (from pydantic<3.0.0,>=2.5.3->surya-ocr) (0.7.0)\n",
      "Requirement already satisfied: pydantic-core==2.33.2 in /home/iankt/inference.ai/homework/MLE_HW_Ian_Too/.venv/lib/python3.12/site-packages (from pydantic<3.0.0,>=2.5.3->surya-ocr) (2.33.2)\n",
      "Requirement already satisfied: typing-inspection>=0.4.0 in /home/iankt/inference.ai/homework/MLE_HW_Ian_Too/.venv/lib/python3.12/site-packages (from pydantic<3.0.0,>=2.5.3->surya-ocr) (0.4.2)\n",
      "Requirement already satisfied: mpmath<1.4,>=1.1.0 in /home/iankt/inference.ai/homework/MLE_HW_Ian_Too/.venv/lib/python3.12/site-packages (from sympy>=1.13.3->torch) (1.3.0)\n",
      "Requirement already satisfied: huggingface-hub<1.0,>=0.34.0 in /home/iankt/inference.ai/homework/MLE_HW_Ian_Too/.venv/lib/python3.12/site-packages (from transformers>=4.56.1->surya-ocr) (0.35.3)\n",
      "Requirement already satisfied: packaging>=20.0 in /home/iankt/inference.ai/homework/MLE_HW_Ian_Too/.venv/lib/python3.12/site-packages (from transformers>=4.56.1->surya-ocr) (25.0)\n",
      "Requirement already satisfied: regex!=2019.12.17 in /home/iankt/inference.ai/homework/MLE_HW_Ian_Too/.venv/lib/python3.12/site-packages (from transformers>=4.56.1->surya-ocr) (2025.9.18)\n",
      "Requirement already satisfied: requests in /home/iankt/inference.ai/homework/MLE_HW_Ian_Too/.venv/lib/python3.12/site-packages (from transformers>=4.56.1->surya-ocr) (2.32.5)\n",
      "Requirement already satisfied: tokenizers<=0.23.0,>=0.22.0 in /home/iankt/inference.ai/homework/MLE_HW_Ian_Too/.venv/lib/python3.12/site-packages (from transformers>=4.56.1->surya-ocr) (0.22.1)\n",
      "Requirement already satisfied: safetensors>=0.4.3 in /home/iankt/inference.ai/homework/MLE_HW_Ian_Too/.venv/lib/python3.12/site-packages (from transformers>=4.56.1->surya-ocr) (0.6.2)\n",
      "Requirement already satisfied: tqdm>=4.27 in /home/iankt/inference.ai/homework/MLE_HW_Ian_Too/.venv/lib/python3.12/site-packages (from transformers>=4.56.1->surya-ocr) (4.67.1)\n",
      "Requirement already satisfied: hf-xet<2.0.0,>=1.1.3 in /home/iankt/inference.ai/homework/MLE_HW_Ian_Too/.venv/lib/python3.12/site-packages (from huggingface-hub<1.0,>=0.34.0->transformers>=4.56.1->surya-ocr) (1.1.10)\n",
      "Requirement already satisfied: distlib<1,>=0.3.7 in /home/iankt/inference.ai/homework/MLE_HW_Ian_Too/.venv/lib/python3.12/site-packages (from virtualenv>=20.10.0->pre-commit<5.0.0,>=4.2.0->surya-ocr) (0.4.0)\n",
      "Requirement already satisfied: MarkupSafe>=2.0 in /home/iankt/inference.ai/homework/MLE_HW_Ian_Too/.venv/lib/python3.12/site-packages (from jinja2->torch) (3.0.3)\n",
      "Requirement already satisfied: charset_normalizer<4,>=2 in /home/iankt/inference.ai/homework/MLE_HW_Ian_Too/.venv/lib/python3.12/site-packages (from requests->transformers>=4.56.1->surya-ocr) (3.4.3)\n",
      "Requirement already satisfied: idna<4,>=2.5 in /home/iankt/inference.ai/homework/MLE_HW_Ian_Too/.venv/lib/python3.12/site-packages (from requests->transformers>=4.56.1->surya-ocr) (3.11)\n",
      "Requirement already satisfied: urllib3<3,>=1.21.1 in /home/iankt/inference.ai/homework/MLE_HW_Ian_Too/.venv/lib/python3.12/site-packages (from requests->transformers>=4.56.1->surya-ocr) (2.5.0)\n",
      "Requirement already satisfied: certifi>=2017.4.17 in /home/iankt/inference.ai/homework/MLE_HW_Ian_Too/.venv/lib/python3.12/site-packages (from requests->transformers>=4.56.1->surya-ocr) (2025.10.5)\n"
     ]
    }
   ],
   "source": [
    "! pip install torch torchvision surya-ocr"
   ]
  }
 ],
 "metadata": {
  "kernelspec": {
   "display_name": ".venv",
   "language": "python",
   "name": "python3"
  },
  "language_info": {
   "codemirror_mode": {
    "name": "ipython",
    "version": 3
   },
   "file_extension": ".py",
   "mimetype": "text/x-python",
   "name": "python",
   "nbconvert_exporter": "python",
   "pygments_lexer": "ipython3",
   "version": "3.12.3"
  }
 },
 "nbformat": 4,
 "nbformat_minor": 5
}
