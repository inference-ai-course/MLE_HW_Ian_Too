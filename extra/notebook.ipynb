{
 "cells": [
  {
   "cell_type": "code",
   "execution_count": 1,
   "id": "02afb8f8",
   "metadata": {},
   "outputs": [
    {
     "name": "stdout",
     "output_type": "stream",
     "text": [
      "Looking in indexes: https://download.pytorch.org/whl/rocm6.4\n",
      "Requirement already satisfied: torch in /home/iankt/inference.ai/homework/MLE_HW_Ian_Too/.venv/lib/python3.12/site-packages (2.9.0+rocm6.4)\n",
      "Requirement already satisfied: torchvision in /home/iankt/inference.ai/homework/MLE_HW_Ian_Too/.venv/lib/python3.12/site-packages (0.24.0+rocm6.4)\n",
      "Requirement already satisfied: filelock in /home/iankt/inference.ai/homework/MLE_HW_Ian_Too/.venv/lib/python3.12/site-packages (from torch) (3.20.0)\n",
      "Requirement already satisfied: typing-extensions>=4.10.0 in /home/iankt/inference.ai/homework/MLE_HW_Ian_Too/.venv/lib/python3.12/site-packages (from torch) (4.15.0)\n",
      "Requirement already satisfied: setuptools in /home/iankt/inference.ai/homework/MLE_HW_Ian_Too/.venv/lib/python3.12/site-packages (from torch) (80.9.0)\n",
      "Requirement already satisfied: sympy>=1.13.3 in /home/iankt/inference.ai/homework/MLE_HW_Ian_Too/.venv/lib/python3.12/site-packages (from torch) (1.14.0)\n",
      "Requirement already satisfied: networkx>=2.5.1 in /home/iankt/inference.ai/homework/MLE_HW_Ian_Too/.venv/lib/python3.12/site-packages (from torch) (3.5)\n",
      "Requirement already satisfied: jinja2 in /home/iankt/inference.ai/homework/MLE_HW_Ian_Too/.venv/lib/python3.12/site-packages (from torch) (3.1.6)\n",
      "Requirement already satisfied: fsspec>=0.8.5 in /home/iankt/inference.ai/homework/MLE_HW_Ian_Too/.venv/lib/python3.12/site-packages (from torch) (2025.9.0)\n",
      "Requirement already satisfied: pytorch-triton-rocm==3.5.0 in /home/iankt/inference.ai/homework/MLE_HW_Ian_Too/.venv/lib/python3.12/site-packages (from torch) (3.5.0)\n",
      "Requirement already satisfied: numpy in /home/iankt/inference.ai/homework/MLE_HW_Ian_Too/.venv/lib/python3.12/site-packages (from torchvision) (2.2.6)\n",
      "Requirement already satisfied: pillow!=8.3.*,>=5.3.0 in /home/iankt/inference.ai/homework/MLE_HW_Ian_Too/.venv/lib/python3.12/site-packages (from torchvision) (10.4.0)\n",
      "Requirement already satisfied: mpmath<1.4,>=1.1.0 in /home/iankt/inference.ai/homework/MLE_HW_Ian_Too/.venv/lib/python3.12/site-packages (from sympy>=1.13.3->torch) (1.3.0)\n",
      "Requirement already satisfied: MarkupSafe>=2.0 in /home/iankt/inference.ai/homework/MLE_HW_Ian_Too/.venv/lib/python3.12/site-packages (from jinja2->torch) (3.0.3)\n"
     ]
    }
   ],
   "source": [
    "! pip install --upgrade torch torchvision --index-url https://download.pytorch.org/whl/rocm6.4"
   ]
  },
  {
   "cell_type": "code",
   "execution_count": 4,
   "id": "b1bf9396",
   "metadata": {},
   "outputs": [
    {
     "name": "stdout",
     "output_type": "stream",
     "text": [
      "Device is using CPU\n"
     ]
    },
    {
     "data": {
      "text/plain": [
       "<function torch.cuda.get_device_name(device: 'Device' = None) -> str>"
      ]
     },
     "execution_count": 4,
     "metadata": {},
     "output_type": "execute_result"
    }
   ],
   "source": [
    "import torch\n",
    "\n",
    "# check if gpu is available\n",
    "if torch.cuda.is_available():\n",
    "    device = torch.device('cuda')\n",
    "    print(\"Python is using AMD GPU\")\n",
    "else:\n",
    "    device = torch.device('cpu')\n",
    "    print(\"Device is using CPU\")\n",
    "\n",
    "\n",
    "torch.cuda.get_device_name\n"
   ]
  }
 ],
 "metadata": {
  "kernelspec": {
   "display_name": ".venv",
   "language": "python",
   "name": "python3"
  },
  "language_info": {
   "codemirror_mode": {
    "name": "ipython",
    "version": 3
   },
   "file_extension": ".py",
   "mimetype": "text/x-python",
   "name": "python",
   "nbconvert_exporter": "python",
   "pygments_lexer": "ipython3",
   "version": "3.12.3"
  }
 },
 "nbformat": 4,
 "nbformat_minor": 5
}
