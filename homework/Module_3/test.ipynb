{
 "cells": [
  {
   "cell_type": "code",
   "execution_count": null,
   "id": "d3ba8f12",
   "metadata": {},
   "outputs": [],
   "source": [
    "# basically messing around."
   ]
  }
 ],
 "metadata": {
  "language_info": {
   "name": "python"
  }
 },
 "nbformat": 4,
 "nbformat_minor": 5
}
