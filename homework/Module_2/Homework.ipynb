{
 "cells": [
  {
   "cell_type": "markdown",
   "id": "8cceb158",
   "metadata": {},
   "source": [
    "# Module 2 Homework\n",
    "\n",
    "Week 2 homework."
   ]
  }
 ],
 "metadata": {
  "language_info": {
   "name": "python"
  }
 },
 "nbformat": 4,
 "nbformat_minor": 5
}
