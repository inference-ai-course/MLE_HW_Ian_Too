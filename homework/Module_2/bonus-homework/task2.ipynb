{
 "cells": [
  {
   "cell_type": "markdown",
   "id": "8889f8d4",
   "metadata": {},
   "source": [
    "# Bonus Assignment 2\n",
    "\n",
    "## PDF to Text OCR\n",
    "\n"
   ]
  }
 ],
 "metadata": {
  "language_info": {
   "name": "python"
  }
 },
 "nbformat": 4,
 "nbformat_minor": 5
}
