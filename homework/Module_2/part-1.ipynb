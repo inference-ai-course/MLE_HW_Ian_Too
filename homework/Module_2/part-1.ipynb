{
 "cells": [
  {
   "cell_type": "markdown",
   "id": "e655f8e8",
   "metadata": {},
   "source": [
    "# Module 2\n",
    "\n",
    "## Homework"
   ]
  },
  {
   "cell_type": "code",
   "execution_count": 5,
   "id": "752e7e98",
   "metadata": {},
   "outputs": [
    {
     "name": "stdout",
     "output_type": "stream",
     "text": [
      "Collecting pytesseract\n",
      "  Downloading pytesseract-0.3.13-py3-none-any.whl.metadata (11 kB)\n",
      "Requirement already satisfied: packaging>=21.3 in /home/iankt/inference.ai/homework/MLE_HW_Ian_Too/.venv/lib/python3.12/site-packages (from pytesseract) (25.0)\n",
      "Requirement already satisfied: Pillow>=8.0.0 in /home/iankt/inference.ai/homework/MLE_HW_Ian_Too/.venv/lib/python3.12/site-packages (from pytesseract) (11.3.0)\n",
      "Downloading pytesseract-0.3.13-py3-none-any.whl (14 kB)\n",
      "Installing collected packages: pytesseract\n",
      "Successfully installed pytesseract-0.3.13\n"
     ]
    }
   ],
   "source": [
    "# install tesseract\n",
    "! pip install pytesseract"
   ]
  },
  {
   "cell_type": "code",
   "execution_count": 21,
   "id": "67f09f90",
   "metadata": {},
   "outputs": [
    {
     "name": "stdout",
     "output_type": "stream",
     "text": [
      "‘Apog Aur ysnomy\n",
      "\n",
      "Uns TTY Jeyrreyun ue yoy 7 GIs 07 ueyd 3ou pip om °peys asoym sapun\n",
      "\n",
      "S991 Jueld prnoys am 3ey? Pres 94 Usy AA , “20TFTIDKs SSoTTS, JO aTdrourid\n",
      "\n",
      "4) inoge oxods ayy ‘aneUISTIeYD pur Quonboye Gua8yyaqur sem 9H *aqoi\n",
      "\n",
      "TOGFES & 210M JY PUR paavys sem Peay stp] -ueur ueIpuy Surpawos-Ayryy\n",
      "\n",
      "B S¥M a8vqs UO amsy oy] PAOT UF TTF J ‘Souarradxe sry moge yye. Yuow\n",
      "\n",
      "oY) OF pauaisl] | se Gysiu yey) ing ‘sdrysuonryjar squewor 2qLDsap 0}\n",
      "\n",
      "AToarsnjoxe sourye pesn uorssardxa ue st aaoy ut Suryey,, “Ul Wy ‘prema\n",
      "Fe eq & 0} OF am sv Buoy sy, ‘ples | Ayjeury pur ‘paystssod puany Ap\n",
      "\n",
      "OPT] UT sBuryy pagsiducooov Apenaoe poy sioyvads\n",
      "\n",
      "WY 01 postayzasd | ~yuour v ut IS9IOJUT O1IZ pey | ing ‘sndures uo 31NQ99]\n",
      "ajdoad [NFSs9oons J9YyIO pur ‘Sontgayao ‘SOD 29s 02 JuaM udqjo |\n",
      "[FOU JUIOS IeaY O83 03 JUBM | Prnom AYM,, ‘PAIstsar ]\n",
      "\n",
      "“Pea & 918 YOU & seay\n",
      "\n",
      "OF UITY YIM O8 0} ouT poyse Spuany Aur Jo 9u0 ‘uopuoT ut JOoydg ssou\n",
      "\n",
      "“ISN SS¥D) Iv ‘adaqTOD Jo reak asmy Aut ur ‘pro sread ua2z43I9 sem | Udy M\n",
      "\n",
      "(sray30 Suowr) AoAeg URAT 0} payngiyye—\n",
      "\n",
      "70079 Plo Uv pve. ‘vapt mau v quvm. nok 7)\n",
      "\n",
      "UO0!lZINPOI} Ul\n",
      "\n",
      "\n"
     ]
    }
   ],
   "source": [
    "from PIL import Image\n",
    "import pytesseract\n",
    "\n",
    "image = Image.open('images-tesseract/tesseract-example/Jay-Shetty-Think-Like-A-Monk-Book-Samples/introduction-1.jpg')\n",
    "\n",
    "# load the image\n",
    "text = pytesseract.image_to_string(image)\n",
    "\n",
    "print(text)"
   ]
  },
  {
   "cell_type": "code",
   "execution_count": null,
   "id": "bf16962f",
   "metadata": {},
   "outputs": [
    {
     "name": "stdout",
     "output_type": "stream",
     "text": [
      "images-tesseract/tesseract-example/Jay-Shetty-Think-Like-A-Monk-Book-Samples/about-page.jpg\n",
      "Is valid img file based on exts\n",
      "images-tesseract/tesseract-example/Jay-Shetty-Think-Like-A-Monk-Book-Samples/about-page.txt\n",
      "images-tesseract/tesseract-example/Jay-Shetty-Think-Like-A-Monk-Book-Samples/cover-page.jpg\n",
      "Is valid img file based on exts\n",
      "images-tesseract/tesseract-example/Jay-Shetty-Think-Like-A-Monk-Book-Samples/cover-page.txt\n",
      "images-tesseract/tesseract-example/Jay-Shetty-Think-Like-A-Monk-Book-Samples/introduction-1.jpg\n",
      "Is valid img file based on exts\n",
      "images-tesseract/tesseract-example/Jay-Shetty-Think-Like-A-Monk-Book-Samples/introduction-1.txt\n",
      "images-tesseract/tesseract-example/Jay-Shetty-Think-Like-A-Monk-Book-Samples/introduction-2.jpg\n",
      "Is valid img file based on exts\n",
      "images-tesseract/tesseract-example/Jay-Shetty-Think-Like-A-Monk-Book-Samples/introduction-2.txt\n",
      "images-tesseract/tesseract-example/Jay-Shetty-Think-Like-A-Monk-Book-Samples/introduction-3.jpg\n",
      "Is valid img file based on exts\n",
      "images-tesseract/tesseract-example/Jay-Shetty-Think-Like-A-Monk-Book-Samples/introduction-3.txt\n",
      "images-tesseract/tesseract-example/Jay-Shetty-Think-Like-A-Monk-Book-Samples/quote.jpg\n",
      "Is valid img file based on exts\n",
      "images-tesseract/tesseract-example/Jay-Shetty-Think-Like-A-Monk-Book-Samples/quote.txt\n",
      "Done: 6\n"
     ]
    },
    {
     "data": {
      "text/plain": [
       "[{'path': PosixPath('images-tesseract/tesseract-example/Jay-Shetty-Think-Like-A-Monk-Book-Samples/about-page.jpg'),\n",
       "  'text': \"‘WUoeWaseuew ysaio9\\n\\n4 214!suodsai ayn\\nJaded .5s4 SUd 0}\\n\\nPaijiqias Ajjuapuadapy; WO} Padnpoid s| 400q siyy\\n\\n6BLLOLOD cOS4 80 25:mmm\\nS894NOs aiqisuodsai ISA\\n\\nWoy sedeg uy\\n@\\n\\n‘stoystiqnd ayj Jo uorsstuad u93}11M Jord\\n24} INOYIM “astM9y}0 IO SUIPIOIOI ‘Sut{dos0j,0yd\\n‘Teotuevyseur ‘stuoMsaq9 ‘suvaur Lue Aq 10 w10j Aue ur\\n‘peutusued Jo “uaisXs [eaaral v UI per04s ‘paonpordax\\n\\naq Avur uoneorqnd Sty Jo qed oN “poasasar SIYSII [Ty\\n\\n{\\n4\\ni\\n;\\n\\noOo\\n\\nPY] Md sseig vyrday Aq eIpU] Ul punog pur paqung\\nNOLLVUIdSNI / d'TdH - AAS\\n\\n£-6898€8-00-0-826 NASI\\n\\n| ArvIGI] YSU 9yI Woy aPqQuiTeAe\\n: SI YOO sty} JO poder onBoyejed VW\\n\\nINJAT-29’T YINY Aq usIsap JoTIAIUT\\n\\nsur-Ayoyskel@ozut prew aseayd\\n‘sjuswiasurie suryeeds 10j Aoyg Aef 39eUOD OT,\\n\\nYIOM sTY} JO IOYINY oy} sv poyMuep!\\n9q 0} 1YBIr PeIOW dy} sjrosse AOYS “Y AL{\\n\\nozoz Aneys “y Ael{ ©\\n\\nVIB8OL6LSE\\n\\nOZOZ suosroyy, Aq poystiqnd worrpe sty, L\\n0C0Z Jaasnyog 2g uoUMg Aq Sf) Oy? UT poysyqnd 3st\\n\\nyn-oo-sutpoorodiey MMM\\n\\neo AAS VOPUO Ty\\n3991}9 aspiig uOpuO’T T\\n“eqsuqngsurjosiadsepy jo yuLdurt UY\\nsuosIOY J,\\n\\n\"},\n",
       " {'path': PosixPath('images-tesseract/tesseract-example/Jay-Shetty-Think-Like-A-Monk-Book-Samples/cover-page.jpg'),\n",
       "  'text': ''},\n",
       " {'path': PosixPath('images-tesseract/tesseract-example/Jay-Shetty-Think-Like-A-Monk-Book-Samples/introduction-1.jpg'),\n",
       "  'text': '‘Apog Aur ysnomy\\n\\nUns TTY Jeyrreyun ue yoy 7 GIs 07 ueyd 3ou pip om °peys asoym sapun\\n\\nS991 Jueld prnoys am 3ey? Pres 94 Usy AA , “20TFTIDKs SSoTTS, JO aTdrourid\\n\\n4) inoge oxods ayy ‘aneUISTIeYD pur Quonboye Gua8yyaqur sem 9H *aqoi\\n\\nTOGFES & 210M JY PUR paavys sem Peay stp] -ueur ueIpuy Surpawos-Ayryy\\n\\nB S¥M a8vqs UO amsy oy] PAOT UF TTF J ‘Souarradxe sry moge yye. Yuow\\n\\noY) OF pauaisl] | se Gysiu yey) ing ‘sdrysuonryjar squewor 2qLDsap 0}\\n\\nAToarsnjoxe sourye pesn uorssardxa ue st aaoy ut Suryey,, “Ul Wy ‘prema\\nFe eq & 0} OF am sv Buoy sy, ‘ples | Ayjeury pur ‘paystssod puany Ap\\n\\nOPT] UT sBuryy pagsiducooov Apenaoe poy sioyvads\\n\\nWY 01 postayzasd | ~yuour v ut IS9IOJUT O1IZ pey | ing ‘sndures uo 31NQ99]\\najdoad [NFSs9oons J9YyIO pur ‘Sontgayao ‘SOD 29s 02 JuaM udqjo |\\n[FOU JUIOS IeaY O83 03 JUBM | Prnom AYM,, ‘PAIstsar ]\\n\\n“Pea & 918 YOU & seay\\n\\nOF UITY YIM O8 0} ouT poyse Spuany Aur Jo 9u0 ‘uopuoT ut JOoydg ssou\\n\\n“ISN SS¥D) Iv ‘adaqTOD Jo reak asmy Aut ur ‘pro sread ua2z43I9 sem | Udy M\\n\\n(sray30 Suowr) AoAeg URAT 0} payngiyye—\\n\\n70079 Plo Uv pve. ‘vapt mau v quvm. nok 7)\\n\\nUO0!lZINPOI} Ul\\n\\n'},\n",
       " {'path': PosixPath('images-tesseract/tesseract-example/Jay-Shetty-Think-Like-A-Monk-Book-Samples/introduction-2.jpg'),\n",
       "  'text': 'Ulop SEM oy Weyy\\n\\n‘yuour 9} Jo Yorssardur ISI AT\\n\\n‘Addey ATNI} sem o\\n[ yury3 1UOp | ing ‘99TYI Tye 10 “SUrYOO]-poo$\\n\\nYM ouodur iour\\n‘Suons ‘snourey arom Oy\\nHP. YH 9t9m oymn ajdoad J9 10] & parajunosus\\nYY] ‘u99]Y 819 jo ase 9 TV JW J9A9 py asuodur uey) torddey pauisas ay\\ney Uy \"20v0d qe pure Quapryuos ‘snodof pareadde oy “omnyrey Pera}Igqura ue\\n19q JO peajsur ING UCM 77 Pinoys am ou PIO} PY pjrom 9y) ayy ay)\\n‘Uaar8 P2H ‘ousoddo 94) auOp Aja} e1aqiap POYM suosWI0s Jo aduasaid\\n\\n‘Ul sem [uy ysny oy] IO} ‘MON “sarr0O}s S9YII-0}-s8v1—Zuryjou0s 0}\\nJou Ory 208 p\\n\\noy afdoad Aq Poyeulosey usaq py opt] afoym ATA\\n\\n“SUTYJOUIOS OU sem ay Io AzeI9\\noy UNA “Surseys arom [ pue spuary Aur yey SuryAr0A9 wos Ave\\n‘ Is\\n°*MJuour pv eutod9q 04 Aun, I0ddo wy) papeN pay ‘orur 198 0} 91q1\\n‘ f , { , Pv\\nLN orm poe exper, 30 yyy op a1 yoy Mequnog 2173\\nue : SE U93q Py Jey} no punoj I usyM possordunt Ayperoodsa SEM |\\n\\nNOILONGOULNI\\n'},\n",
       " {'path': PosixPath('images-tesseract/tesseract-example/Jay-Shetty-Think-Like-A-Monk-Book-Samples/introduction-3.jpg'),\n",
       "  'text': '0} putur mod ure; 0} yUeM NOX FT “WAIOJI9d 0} MOY UIEIT 0} 99U0A9g\\nApnys yy8tur nod Sysnyy oy a3¥3yseAut yStuT Nod jeAoUUT 0} payuem\\nnok Fr Suepsrof pRyTPAY OF VINA IysTUT nod QIM09 TRqQIo¥seq ay axvu\\n-IWop 0} Moy MOUY 0} poyurM nod J] ésyUour oy] YUTYyI om Pnoys Ay Ay\\n\\n‘s1oyeIpot-uou ueyy (doays Surmp usd) 1930]\\npase] pue roysty poyids yey} spoao] oavar vUIWeS PaMoYs osye ssonovid\\nuoleypowr Jo Ajarrwa B SULINP pauUwds sUTLI T9YI pry OYA sxuour Joyo\\nsuo-AWUIMT “dUOTe UST prvory ing ‘Ayeurour ue sy] Wes ABU S]IvYD oy}\\nJJo soym YUou suQ ‘auatss Kg papsose4 saaa—ssourddey pur ‘Sutureay ‘10\\nWd ‘UOTUI® YIM poyeIoosse IsOyJ—Soavrm BUIUTB.d JO [AAI] IsoystY ay}\\npunoj Aoy3 rorye uray isarddepy spproa ous, UTY Peqe] Ajuanbasqns\\nuIRIg SPILT noryINe]A, YOu styppng PsuuKs OYA STOYIBISOY\\n‘rasunod sivak Ud} DUOSUOS Jo\\nUIvIq JY} py oy ples sJoyoreasar oy], si90d sry uvyy SuIsE JO SUBIS IOMIq\\npomoys uresq suo pjo-ieek-gU0-AVIOF JY} FO SUBS ‘SoTPNAS [PNTUT oso}\\nyoye sivok aq ueYY soyy “Youtms v surddig se ATIsea sv 93e}S DATILITpPOU\\n[njzomod ¥ Jo INO puUR UT std 0} BIqGe Aq 0} pauses ay “poopuy ‘poriod\\nUOTIISURI] YONS OU peau Oo} pauses syoodury ‘purut mod ySnosy} soyoeWw\\nyey? syysnoy} Sunoensip Jo apeied oy yotnb 0} oui suIOS soye} Aqe2\\n-1d4q Jey Mouy NOA “UTeIG INOA LTD 0} Pots} Jsvo] Jv DAVY IO ‘ToOJLIIPw &\\nainod jy potted .dn-unem, ou papasu sy yey} JRF oY} OsTe jng—poriod\\nysor 0) Aytanoe Woz ATpoywodor uO, pue _jjo, Surummj—AQianoe uresq\\nsyUOUI OY} JO ADUd}SISUOD 94} Isnf JOU s¥M s[GeyTeUTOT sem IU AA\\nTyas Apooyzied poureusas oy “oda\\nBUIAIISqO 9Y} OF yok ‘peAOU ISTMIOYIO IO suOT}Isod posuryd Avy ySNuUl\\nyuow sY} ‘duinq yornb ‘S0IR] B YONS YIM Jey} Pounsse sjsUSTOS 9Y [, ‘AY\\n-Ayjov ul yids sAIsseu puv Usppns ¥ posoystda1 4 qx OUI ‘UOTRIIpou! STY\\nuvdeq YUOUL 94} JUSUIOUT 19ex9 OY} JsOUTTE ye fame UT poyoIEM sIoYoIvISeL\\naU YT JOVe[SuULT B Aq pens ‘MOL & UT SOUT} INOJ uroyed sTyy ysnory} papoAo\\nApyoinb ayy ‘potsod yso1 puosss-Ajry) & puv uorIsseduros uo Suvypsw\\nJO Anulws suo UsaMjo0q BSuUIvUIDY—pousIsop prey sioyoIvasor oY} [OP\\n\\n-ojoid uoneIIpsu yy} uvdoq YUOU 9} ‘UIOOI JoIJUOD % WoIF poyoIeEM\\n\\nNOILDNGOUYLNI\\n\\n'},\n",
       " {'path': PosixPath('images-tesseract/tesseract-example/Jay-Shetty-Think-Like-A-Monk-Book-Samples/quote.jpg'),\n",
       "  'text': 'ag 4Abd [Jt J UvgJ\\nYUOUL ILOUL St OY\\n\\n‘afta hus LOq\\n'}]"
      ]
     },
     "execution_count": 20,
     "metadata": {},
     "output_type": "execute_result"
    }
   ],
   "source": [
    "import os\n",
    "from pathlib import Path\n",
    "import cv2\n",
    "\n",
    "\n",
    "folder_path = Path(\"./images-tesseract/tesseract-example/Jay-Shetty-Think-Like-A-Monk-Book-Samples\")\n",
    "exts = {\".png\", \".jpg\", \".jpeg\"} # file extensions\n",
    "\n",
    "results = [] # list of dicts {\"path\":Path, \"text\": str}\n",
    "\n",
    "for img_path in sorted(folder_path.rglob(\"*\")):\n",
    "    print(img_path)\n",
    "    if img_path.is_file() and img_path.suffix.lower() in exts:\n",
    "        print(\"Is valid img file based on exts\")\n",
    "        try:\n",
    "            with Image.open(img_path) as img:\n",
    "                text = pytesseract.image_to_string(img)\n",
    "        except Exception as e:\n",
    "            print(f\"Failed on : {img_path} : {e}\")\n",
    "            continue\n",
    "\n",
    "        # save as dictionary\n",
    "        results.append({\"path\": img_path, \"text\": text})\n",
    "\n",
    "\n",
    "        # save to a file\n",
    "        txt_path = img_path.with_suffix(\".txt\")\n",
    "\n",
    "        try:\n",
    "            txt_path.write_text(text, encoding=\"utf-8\")\n",
    "        except Exception as e:\n",
    "            print(f\"Could not write {txt_path} : {e}\")\n",
    "\n",
    "print(f\"Done: {len(results)}\")\n",
    "results\n"
   ]
  },
  {
   "cell_type": "markdown",
   "id": "e15645e5",
   "metadata": {},
   "source": [
    "# Issues with Tesseract\n",
    "\n",
    "Our code above is having issues and needs the images to be pre-processed. We are going to preporcess the images before we pass them to pytesseract"
   ]
  },
  {
   "cell_type": "code",
   "execution_count": 22,
   "id": "eea3abc3",
   "metadata": {},
   "outputs": [
    {
     "name": "stdout",
     "output_type": "stream",
     "text": [
      "Collecting opencv-python\n",
      "  Downloading opencv_python-4.12.0.88-cp37-abi3-manylinux2014_x86_64.manylinux_2_17_x86_64.whl.metadata (19 kB)\n",
      "Requirement already satisfied: pillow in /home/iankt/inference.ai/homework/MLE_HW_Ian_Too/.venv/lib/python3.12/site-packages (11.3.0)\n",
      "Requirement already satisfied: pytesseract in /home/iankt/inference.ai/homework/MLE_HW_Ian_Too/.venv/lib/python3.12/site-packages (0.3.13)\n",
      "Collecting numpy<2.3.0,>=2 (from opencv-python)\n",
      "  Downloading numpy-2.2.6-cp312-cp312-manylinux_2_17_x86_64.manylinux2014_x86_64.whl.metadata (62 kB)\n",
      "Requirement already satisfied: packaging>=21.3 in /home/iankt/inference.ai/homework/MLE_HW_Ian_Too/.venv/lib/python3.12/site-packages (from pytesseract) (25.0)\n",
      "Downloading opencv_python-4.12.0.88-cp37-abi3-manylinux2014_x86_64.manylinux_2_17_x86_64.whl (67.0 MB)\n",
      "\u001b[2K   \u001b[90m━━━━━━━━━━━━━━━━━━━━━━━━━━━━━━━━━━━━━━━━\u001b[0m \u001b[32m67.0/67.0 MB\u001b[0m \u001b[31m24.5 MB/s\u001b[0m  \u001b[33m0:00:02\u001b[0mm0:00:01\u001b[0m00:01\u001b[0m\n",
      "\u001b[?25hDownloading numpy-2.2.6-cp312-cp312-manylinux_2_17_x86_64.manylinux2014_x86_64.whl (16.5 MB)\n",
      "\u001b[2K   \u001b[90m━━━━━━━━━━━━━━━━━━━━━━━━━━━━━━━━━━━━━━━━\u001b[0m \u001b[32m16.5/16.5 MB\u001b[0m \u001b[31m24.1 MB/s\u001b[0m  \u001b[33m0:00:00\u001b[0m eta \u001b[36m0:00:01\u001b[0m\n",
      "\u001b[?25hInstalling collected packages: numpy, opencv-python\n",
      "\u001b[2K  Attempting uninstall: numpy\n",
      "\u001b[2K    Found existing installation: numpy 2.3.3\n",
      "\u001b[2K    Uninstalling numpy-2.3.3:\n",
      "\u001b[2K      Successfully uninstalled numpy-2.3.3\n",
      "\u001b[2K   \u001b[90m━━━━━━━━━━━━━━━━━━━━━━━━━━━━━━━━━━━━━━━━\u001b[0m \u001b[32m2/2\u001b[0m [opencv-python]0m [opencv-python]\n",
      "\u001b[1A\u001b[2KSuccessfully installed numpy-2.2.6 opencv-python-4.12.0.88\n"
     ]
    }
   ],
   "source": [
    "! pip install opencv-python pillow pytesseract"
   ]
  },
  {
   "cell_type": "code",
   "execution_count": 29,
   "id": "a1d97869",
   "metadata": {},
   "outputs": [
    {
     "name": "stdout",
     "output_type": "stream",
     "text": [
      "OCR: about-page.jpg -> 1278 chars\n",
      "OCR: cover-page.jpg -> 3219 chars\n",
      "OCR: introduction-1.jpg -> 1017 chars\n",
      "OCR: introduction-2.jpg -> 2650 chars\n",
      "OCR: introduction-3.jpg -> 2321 chars\n",
      "OCR: quote.jpg -> 27 chars\n"
     ]
    }
   ],
   "source": [
    "from pathlib import Path\n",
    "import cv2\n",
    "from PIL import Image\n",
    "import pytesseract\n",
    "\n",
    "folder = Path(\"./images-tesseract/tesseract-example/Jay-Shetty-Think-Like-A-Monk-Book-Samples\")\n",
    "exts = {\".png\", \".jpg\", \".jpeg\"}\n",
    "\n",
    "def preprocess_for_ocr(bgr):\n",
    "    if bgr is None:\n",
    "        raise ValueError(\"Input image is None\")\n",
    "    # normalize to grayscale regardless of input shape/channels\n",
    "    if len(bgr.shape) == 2:\n",
    "        gray = bgr\n",
    "    elif bgr.shape[2] == 4:\n",
    "        gray = cv2.cvtColor(bgr, cv2.COLOR_BGRA2GRAY)\n",
    "    else:\n",
    "        gray = cv2.cvtColor(bgr, cv2.COLOR_BGR2GRAY)\n",
    "\n",
    "    h, w = gray.shape\n",
    "    if min(h, w) < 1000:\n",
    "        gray = cv2.resize(gray, None, fx=2.0, fy=2.0, interpolation=cv2.INTER_CUBIC)\n",
    "\n",
    "    thr = cv2.adaptiveThreshold(\n",
    "        gray, 255, cv2.ADAPTIVE_THRESH_GAUSSIAN_C, cv2.THRESH_BINARY, 31, 15\n",
    "    )\n",
    "    den = cv2.medianBlur(thr, 3)\n",
    "    return den\n",
    "\n",
    "config = \"--oem 3 --psm 6\"  # LSTM engine; assume a block of text\n",
    "\n",
    "for p in sorted(folder.iterdir()):\n",
    "    if p.suffix.lower() in exts:\n",
    "        # always load color so we control conversion\n",
    "        bgr = cv2.imread(str(p), cv2.IMREAD_UNCHANGED)\n",
    "        if bgr is None:\n",
    "            print(f\"cannot read {p}\")\n",
    "            continue\n",
    "\n",
    "        proc = preprocess_for_ocr(bgr)\n",
    "        text = pytesseract.image_to_string(proc, lang=\"eng\", config=config)\n",
    "        p.with_suffix(\".txt\").write_text(text, encoding=\"utf-8\")\n",
    "        print(f\"OCR: {p.name} -> {len(text.strip())} chars\")"
   ]
  },
  {
   "cell_type": "code",
   "execution_count": 30,
   "id": "ab48cba3",
   "metadata": {},
   "outputs": [
    {
     "name": "stdout",
     "output_type": "stream",
     "text": [
      "Chosen config: --oem 1 --psm 6\n",
      "1\n",
      ". ;\n",
      "qt 1\n",
      "_ I . .\n",
      "| +\n",
      "il a : tO ee wtt le ot a\n",
      ". . m, uo woe tee a wt . . a we teat, set an _ .\n",
      ". ae . oo ene a . . _ - Se Ie wet . a .\n",
      "aon. , Torte on : a yo Lanes ome ce\n",
      "a To nate nee 2 oS a aan Tye re re : ~\n",
      ". tebe + wat Te oN a ae motes tee, Sia rs Ae an a\n",
      ": Te : . we : - te en oa ve eC oe ky Data :\n",
      "ete ewe : . so : ‘ : nn . os sr. Tt el ateny MT tee\n",
      "” . cece eee nasa eee, : : an m, ; nos ae rae an aan ., mo os ASN wT toga cn\n",
      "one teeter : mo : . : ‘ . : ern ne eee oN ips eres rans Neer) te\n",
      ". ae Se at Looe Loy , Te se le rere et Tt le, st * ~ ~ Tle rs meee nore\n",
      "so vee. i ae ol ee aor ber gy SOR ey Siem Py OL: O: LISS a\n",
      ". eee sane et oe . oe . rn wo . Om : eo a ane ne yy aban Rares eee pe ce 2g. a\n",
      "woe te . tae % . : > moe . ” Seg rm nt oon > CO. “ye Mes woe oe ae\n",
      ". Steere ee . . ae . : \n",
      "Wrote: images-tesseract/tesseract-example/Jay-Shetty-Think-Like-A-Monk-Book-Samples/introduction-2.txt\n"
     ]
    }
   ],
   "source": [
    "from pathlib import Path\n",
    "import cv2\n",
    "import numpy as np\n",
    "import pytesseract\n",
    "\n",
    "img_path = Path(\"images-tesseract/tesseract-example/Jay-Shetty-Think-Like-A-Monk-Book-Samples/introduction-2.jpg\")\n",
    "out_path = img_path.with_suffix(\".txt\")\n",
    "\n",
    "def deskew(gray):\n",
    "    # edge → lines → angle → rotate (robust small-angle deskew)\n",
    "    edges = cv2.Canny(gray, 50, 150)\n",
    "    lines = cv2.HoughLines(edges, 1, np.pi/180, 150)\n",
    "    if lines is None:\n",
    "        return gray\n",
    "    angles = []\n",
    "    for rho, theta in lines[:,0]:\n",
    "        angle = (theta * 180 / np.pi) - 90\n",
    "        # keep near-horizontal lines\n",
    "        if -30 < angle < 30:\n",
    "            angles.append(angle)\n",
    "    if not angles:\n",
    "        return gray\n",
    "    angle = np.median(angles)\n",
    "    (h, w) = gray.shape\n",
    "    M = cv2.getRotationMatrix2D((w//2, h//2), angle, 1.0)\n",
    "    return cv2.warpAffine(gray, M, (w, h), flags=cv2.INTER_CUBIC, borderMode=cv2.BORDER_REPLICATE)\n",
    "\n",
    "def preprocess(bgr):\n",
    "    if bgr is None:\n",
    "        raise ValueError(\"Image not found\")\n",
    "    if len(bgr.shape) == 2:\n",
    "        gray = bgr\n",
    "    elif bgr.shape[2] == 4:\n",
    "        gray = cv2.cvtColor(bgr, cv2.COLOR_BGRA2GRAY)\n",
    "    else:\n",
    "        gray = cv2.cvtColor(bgr, cv2.COLOR_BGR2GRAY)\n",
    "\n",
    "    # upscale if small\n",
    "    h, w = gray.shape\n",
    "    if min(h, w) < 1400:\n",
    "        scale = 1400 / min(h, w)\n",
    "        gray = cv2.resize(gray, None, fx=scale, fy=scale, interpolation=cv2.INTER_CUBIC)\n",
    "\n",
    "    # local contrast\n",
    "    clahe = cv2.createCLAHE(clipLimit=3.0, tileGridSize=(8,8))\n",
    "    gray = clahe.apply(gray)\n",
    "\n",
    "    # deskew\n",
    "    gray = deskew(gray)\n",
    "\n",
    "    # binarize + light denoise\n",
    "    thr = cv2.adaptiveThreshold(gray, 255, cv2.ADAPTIVE_THRESH_GAUSSIAN_C,\n",
    "                                cv2.THRESH_BINARY, 31, 15)\n",
    "    den = cv2.medianBlur(thr, 3)\n",
    "    return den\n",
    "\n",
    "bgr = cv2.imread(str(img_path), cv2.IMREAD_UNCHANGED)\n",
    "proc = preprocess(bgr)\n",
    "\n",
    "configs = [\n",
    "    \"--oem 1 --psm 6\",   # LSTM, block of text\n",
    "    \"--oem 1 --psm 4\",   # LSTM, column(s)\n",
    "    \"--oem 1 --psm 3\",   # fully automatic\n",
    "    \"--oem 1 --psm 11\",  # sparse text\n",
    "]\n",
    "candidates = []\n",
    "for cfg in configs:\n",
    "    txt = pytesseract.image_to_string(proc, lang=\"eng\", config=cfg)\n",
    "    # simple heuristic: more letters with reasonable length\n",
    "    score = sum(c.isalpha() for c in txt)\n",
    "    candidates.append((score, cfg, txt))\n",
    "\n",
    "best = max(candidates, key=lambda x: x[0])\n",
    "print(f\"Chosen config: {best[1]}\")\n",
    "print(best[2][:800])  # preview\n",
    "\n",
    "out_path.write_text(best[2], encoding=\"utf-8\")\n",
    "print(f\"Wrote: {out_path}\")"
   ]
  }
 ],
 "metadata": {
  "kernelspec": {
   "display_name": ".venv",
   "language": "python",
   "name": "python3"
  },
  "language_info": {
   "codemirror_mode": {
    "name": "ipython",
    "version": 3
   },
   "file_extension": ".py",
   "mimetype": "text/x-python",
   "name": "python",
   "nbconvert_exporter": "python",
   "pygments_lexer": "ipython3",
   "version": "3.12.3"
  }
 },
 "nbformat": 4,
 "nbformat_minor": 5
}
