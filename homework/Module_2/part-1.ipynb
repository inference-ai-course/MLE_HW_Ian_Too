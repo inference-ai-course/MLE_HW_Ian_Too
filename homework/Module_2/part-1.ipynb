{
 "cells": [
  {
   "cell_type": "markdown",
   "id": "e655f8e8",
   "metadata": {},
   "source": [
    "# Module 2\n",
    "\n",
    "## Homework\n",
    "\n"
   ]
  }
 ],
 "metadata": {
  "language_info": {
   "name": "python"
  }
 },
 "nbformat": 4,
 "nbformat_minor": 5
}
