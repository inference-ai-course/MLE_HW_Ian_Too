{
 "cells": [
  {
   "cell_type": "markdown",
   "id": "25fcf759",
   "metadata": {},
   "source": [
    "Let's redo Session 2 Assignment. \n",
    "\n",
    "The goal is to use tesseract OCR, an Optical Character recognition engine developed by Google \n",
    "to convert scanned images, images with text and pdfs to machine readable text.\n",
    "\n"
   ]
  },
  {
   "cell_type": "markdown",
   "id": "8f814559",
   "metadata": {},
   "source": [
    "### Using the Python wrapper."
   ]
  },
  {
   "cell_type": "code",
   "execution_count": 1,
   "id": "91bbeeff",
   "metadata": {},
   "outputs": [
    {
     "name": "stdout",
     "output_type": "stream",
     "text": [
      "Requirement already satisfied: pytesseract in /home/iankt/inference.ai/homework/MLE_HW_Ian_Too/.venv/lib/python3.12/site-packages (0.3.13)\n",
      "Requirement already satisfied: packaging>=21.3 in /home/iankt/inference.ai/homework/MLE_HW_Ian_Too/.venv/lib/python3.12/site-packages (from pytesseract) (25.0)\n",
      "Requirement already satisfied: Pillow>=8.0.0 in /home/iankt/inference.ai/homework/MLE_HW_Ian_Too/.venv/lib/python3.12/site-packages (from pytesseract) (10.4.0)\n"
     ]
    }
   ],
   "source": [
    "! pip install pytesseract"
   ]
  },
  {
   "cell_type": "code",
   "execution_count": 11,
   "id": "be596440",
   "metadata": {},
   "outputs": [],
   "source": [
    "from PIL import Image, ImageEnhance, ImageFilter\n",
    "import pytesseract"
   ]
  },
  {
   "cell_type": "markdown",
   "id": "e043d9bd",
   "metadata": {},
   "source": [
    "Sample image source: [Sample Bill of rights](https://www.archives.gov/files/founding-docs/downloads/Bill_of_Rights_Pg1of1_AC.jpg)"
   ]
  },
  {
   "cell_type": "code",
   "execution_count": 18,
   "id": "82ed1e42",
   "metadata": {},
   "outputs": [
    {
     "name": "stdout",
     "output_type": "stream",
     "text": [
      "e ( * , ‘3 y\n",
      "\n",
      "Cee id ia Hind. y i, wth ent ee Hil ove did, ll whl\n",
      "\n",
      "wo £: ,\n",
      "\n",
      ". i se Has\n",
      "\n",
      "Ip Mh hella seepage Salle Get one wal! Beale\n",
      "' . 4 hy Cea Maral. bate? Morne’ v4 Lot as At Olan th 1 hl nated Be he hed del\n",
      "i spare lhe hey Pe ee be. Tr ghee ‘ae : iade bitte LAS pe ore gels Gila | bed iad ids wt F§ iddéa , dea ‘ ?\n",
      "“ehenned utr bald 9th smi Aor far thee. ey fae fe: Aas a zt a 7 ae + } : a? 43% ace\n",
      "AMPLE EY i eae le, ara dy ee\n",
      "Ags 2 Come ey\n",
      "wa Th py y cay Ei dl tabi tai wi Setant : fp\n",
      "oe\n",
      "z= ae Wie lhe As wc 87d ae ye DA i Maen ened Op. thane wv howto. : Rapgacees\n",
      "py l he eacerehan of hapienia Bia sien, saline tnsfo bck a ing oth “ hats\n",
      "ar : Fk tite matic apt lin fo fog) 4 ‘\n",
      "bh fo. Coney & 4 Prep ps: rie vale ‘ , Wists\n",
      "Sa Coy y fait Pe one! ae pang ee ‘\n",
      "\n",
      "bast ot Genres a ome wa” iy i\n",
      "bs tr: ale Wl. ba Sa th catg es: hep hies oe eli wii? |\n",
      "be J ae edt ¥ yA , ih , r ° ah 2. thes! B hoe haere HF Li oye ame vim\n",
      "\n",
      "MT, Ne clh Ke 1 Bi Re “i be thal, id wd a ce ins a # fic Mpper id carp trse a ae e *) tem\n",
      "\n",
      "r\n",
      "\n",
      "jsatiadle fates pipes loa hep Cbth. ar % : re! whegndarle dle, “y y. Ane & be Dems head, hifi Fal i agit : my\n",
      "\n",
      ", Z\n",
      "\n",
      "Me ols ptpen shell hele o arconery calle: ill : parmesan rt A ot acih weil « map ag th ky Beg 3\n",
      "4 eee\n",
      "\n",
      "Re, ths ’\n",
      "\n",
      "Bs\n",
      "\n",
      "4\n",
      "\n",
      "wikegt Minette. ‘ M40 4 im es fs. te add veut ee d ~~) fer Ale “Babak a Hye + hr. thay fo+ 6 rer as of de o hides\n",
      "\n",
      ",\n",
      "\n",
      "Carveng ness bite me A @ tex if ag A ae y i ie é - «died. tae behtensd any f Gh tf lai ' a fn Pitscen le tats they [dad obs At he bbs us\n",
      "\n",
      "$, the 1s Obes “¢ rhe 2 wedotens , theta clodeyl é eds\n",
      "4 .\n",
      "\n",
      "y ‘\n",
      ". hth, beact famine tae. y Al\n",
      "° rs ey? 4 ea . % ‘\n",
      "J . > d\n",
      "x a, y j\n",
      "Stee it MiMboerd te eat Mi, 2 ae one re on: <7 (5 2pSPin-\n",
      "| - LY a , 4 »\n",
      "\n",
      "fs 4 , y { #6 . :\n",
      "’ \"hl 4 f / : y { ‘ ; Wg : Fi 4\n",
      "may Flite sw wr. a? < beole ety me), ey hp thoy\n",
      "a ; Sage: *\n",
      "\n",
      "be Gee sey las ee hae * ly ‘ ah\n",
      "\n",
      "7\n",
      "\n",
      "FA\n",
      ".» ae, a lag | 5 a _ RS\n",
      "Ihde (01S) ~ eager “ng tha fone Whos t\n",
      ". sf, 4 , aes Y ‘ S . ; .\n",
      "q/ lakuudiei id: Gd if m o ¢ peut fade. Vg na ae Ye + leaned\n",
      "\n",
      "irticle the 1 hes a) 4 inn et ' b Mid f : st ae # 9m 15 heed é3\n",
      ", ee e. i,\n",
      "\n",
      "\n"
     ]
    }
   ],
   "source": [
    "image = Image.open('Bill_of_Rights_Pg1of1_AC.jpg') # though it needs pre processing first!\n",
    "\n",
    "grayscale_image = image.convert(\"L\")\n",
    "\n",
    "grayscale_image.save(\"output_grayscale_image.jpg\")\n",
    "\n",
    "contrast_image = ImageEnhance.Contrast(grayscale_image)\n",
    "\n",
    "factor = 3\n",
    "\n",
    "enhanced = contrast_image.enhance(factor)\n",
    "\n",
    "enhanced.save(\"high_contrast_image.jpg\")\n",
    "\n",
    "filtered_image = enhanced.filter(ImageFilter.MedianFilter(size=9))\n",
    "\n",
    "filtered_image.save(\"filtered_image_2.jpg\")\n",
    "\n",
    "the_text = pytesseract.image_to_string(filtered_image)\n",
    "\n",
    "\n",
    "print(the_text)"
   ]
  }
 ],
 "metadata": {
  "kernelspec": {
   "display_name": ".venv",
   "language": "python",
   "name": "python3"
  },
  "language_info": {
   "codemirror_mode": {
    "name": "ipython",
    "version": 3
   },
   "file_extension": ".py",
   "mimetype": "text/x-python",
   "name": "python",
   "nbconvert_exporter": "python",
   "pygments_lexer": "ipython3",
   "version": "3.12.3"
  }
 },
 "nbformat": 4,
 "nbformat_minor": 5
}
