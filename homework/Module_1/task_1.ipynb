{
 "cells": [
  {
   "cell_type": "markdown",
   "id": "c76c9aa8",
   "metadata": {},
   "source": [
    "Task: Interact with ChatGPT and come up with reasearch prompts.\n",
    "\n",
    "## Basic Prompts\n",
    "\n",
    "I will organize my prompts in a table format, I will first define the goal or the problem, then come up with prompts that will work towards trying to get output from the LLM.\n",
    "\n",
    "| Problem/Goal | (my)User Prompt | System Prompt | Notes | Used COSTAR |\n",
    "| ------------ | --------------- | ------------- | ----- | ----------- |\n",
    "| Get a summary of a research paper in bullet points. | Your goal is to summarize this research paper in the form of bullet points. |  |  |  |"
   ]
  },
  {
   "cell_type": "code",
   "execution_count": null,
   "id": "de67608f",
   "metadata": {
    "vscode": {
     "languageId": "plaintext"
    }
   },
   "outputs": [],
   "source": []
  }
 ],
 "metadata": {
  "language_info": {
   "name": "python"
  }
 },
 "nbformat": 4,
 "nbformat_minor": 5
}
