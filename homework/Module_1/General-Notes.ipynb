{
 "cells": [
  {
   "cell_type": "markdown",
   "id": "d0199d2f",
   "metadata": {},
   "source": [
    "# Personal Notes - Week 1\n",
    "\n",
    "My own personal notes on the relevant topics. Disclaimer: Content is for my own personal note taking during the course.\n",
    "\n",
    "## Week 1\n",
    "\n",
    "This week is about prompt engineering. The ultimate goal is to develop a research agent; a tool that uses large language models and tools to complete actions. In this case, do research. \n",
    "\n",
    "\n",
    "### Reasearch Agent\n",
    "\n",
    "Research basically to reason about goals, retrieve information, call tools or APIs, and collaborate with other agents to perform complex research tasks."
   ]
  },
  {
   "cell_type": "markdown",
   "id": "1747f26c",
   "metadata": {},
   "source": [
    "## Building my first prompt.\n",
    "\n",
    "### Chat GPT\n",
    "\n",
    "![Image](./screenshots/Task_1.png)\n",
    "\n",
    "My basic prompt using ChatGPT to summarize a pdf document for a high school students in bullet points:\n",
    "\n",
    "I used the ['Attention is all you need'](https://research.google/pubs/attention-is-all-you-need/) research paper from Google. \n",
    "\n",
    "Here is my prompt: `Summarize this research paper in fewer than 10 bullet points`"
   ]
  }
 ],
 "metadata": {
  "kernelspec": {
   "display_name": ".venv",
   "language": "python",
   "name": "python3"
  },
  "language_info": {
   "name": "python",
   "version": "3.12.3"
  }
 },
 "nbformat": 4,
 "nbformat_minor": 5
}
