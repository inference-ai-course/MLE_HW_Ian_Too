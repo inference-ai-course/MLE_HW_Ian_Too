{
 "cells": [
  {
   "cell_type": "markdown",
   "id": "d0199d2f",
   "metadata": {},
   "source": [
    "# Personal Notes - Week 1\n",
    "\n",
    "My own personal notes on the relevant topics. Disclaimer: Content is for my own personal note taking during the course.\n",
    "\n",
    "## Week 1\n",
    "\n",
    "This week is about prompt engineering. The ultimate goal is to develop a research agent; a tool that uses large language models and tools to complete actions. In this case, do research. \n",
    "\n",
    "\n",
    "### Reasearch Agent\n",
    "\n",
    "Research basically to reason about goals, retrieve information, call tools or APIs, and collaborate with other agents to perform complex research tasks.\n",
    "\n",
    "! [Image](./screenshots/Task_1.png)"
   ]
  }
 ],
 "metadata": {
  "kernelspec": {
   "display_name": ".venv",
   "language": "python",
   "name": "python3"
  },
  "language_info": {
   "name": "python",
   "version": "3.12.3"
  }
 },
 "nbformat": 4,
 "nbformat_minor": 5
}
