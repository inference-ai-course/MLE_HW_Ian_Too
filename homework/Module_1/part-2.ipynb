{
 "cells": [
  {
   "cell_type": "markdown",
   "id": "56c0608c",
   "metadata": {},
   "source": [
    "# Homework Part 2: Ollama\n",
    "\n",
    "### Task 2.1. : Installing Ollama\n",
    "\n",
    "Tasks:\n",
    "\n",
    "- refer to [Ollama](https://ollama.ai/) to complete installation.  \n",
    "- Run `ollama run llama2` from the command line to download and launch the `llama2` model.\n",
    "\n",
    "#### Screenshot\n",
    "\n",
    "![Screenshot](./screenshots/part-2/task-1-image.png)\n",
    "\n",
    "---\n"
   ]
  },
  {
   "cell_type": "markdown",
   "id": "24342049",
   "metadata": {},
   "source": [
    "### Task 2.2. : Use Ollama to call OpenAI API\n",
    "\n",
    "Tasks: *Ollama now has built-in compatibility with the OpenAI Chat Completions API, making it possible to use more tooling and applications with Ollama locally.*\n",
    "\n",
    "\n",
    "#### Screenshot (Result)\n",
    "\n",
    "![Screenshot](./screenshots/part-2/task-2.png)\n"
   ]
  },
  {
   "cell_type": "code",
   "execution_count": 1,
   "id": "6ca1f433",
   "metadata": {},
   "outputs": [
    {
     "name": "stdout",
     "output_type": "stream",
     "text": [
      "Collecting OpenAI\n",
      "  Downloading openai-2.3.0-py3-none-any.whl.metadata (29 kB)\n",
      "Collecting anyio<5,>=3.5.0 (from OpenAI)\n",
      "  Downloading anyio-4.11.0-py3-none-any.whl.metadata (4.1 kB)\n",
      "Collecting distro<2,>=1.7.0 (from OpenAI)\n",
      "  Downloading distro-1.9.0-py3-none-any.whl.metadata (6.8 kB)\n",
      "Collecting httpx<1,>=0.23.0 (from OpenAI)\n",
      "  Downloading httpx-0.28.1-py3-none-any.whl.metadata (7.1 kB)\n",
      "Collecting jiter<1,>=0.10.0 (from OpenAI)\n",
      "  Downloading jiter-0.11.0-cp312-cp312-manylinux_2_17_x86_64.manylinux2014_x86_64.whl.metadata (5.2 kB)\n",
      "Collecting pydantic<3,>=1.9.0 (from OpenAI)\n",
      "  Downloading pydantic-2.12.0-py3-none-any.whl.metadata (83 kB)\n",
      "Collecting sniffio (from OpenAI)\n",
      "  Downloading sniffio-1.3.1-py3-none-any.whl.metadata (3.9 kB)\n",
      "Collecting tqdm>4 (from OpenAI)\n",
      "  Downloading tqdm-4.67.1-py3-none-any.whl.metadata (57 kB)\n",
      "Collecting typing-extensions<5,>=4.11 (from OpenAI)\n",
      "  Downloading typing_extensions-4.15.0-py3-none-any.whl.metadata (3.3 kB)\n",
      "Collecting idna>=2.8 (from anyio<5,>=3.5.0->OpenAI)\n",
      "  Downloading idna-3.11-py3-none-any.whl.metadata (8.4 kB)\n",
      "Collecting certifi (from httpx<1,>=0.23.0->OpenAI)\n",
      "  Downloading certifi-2025.10.5-py3-none-any.whl.metadata (2.5 kB)\n",
      "Collecting httpcore==1.* (from httpx<1,>=0.23.0->OpenAI)\n",
      "  Downloading httpcore-1.0.9-py3-none-any.whl.metadata (21 kB)\n",
      "Collecting h11>=0.16 (from httpcore==1.*->httpx<1,>=0.23.0->OpenAI)\n",
      "  Downloading h11-0.16.0-py3-none-any.whl.metadata (8.3 kB)\n",
      "Collecting annotated-types>=0.6.0 (from pydantic<3,>=1.9.0->OpenAI)\n",
      "  Downloading annotated_types-0.7.0-py3-none-any.whl.metadata (15 kB)\n",
      "Collecting pydantic-core==2.41.1 (from pydantic<3,>=1.9.0->OpenAI)\n",
      "  Downloading pydantic_core-2.41.1-cp312-cp312-manylinux_2_17_x86_64.manylinux2014_x86_64.whl.metadata (7.3 kB)\n",
      "Collecting typing-inspection>=0.4.2 (from pydantic<3,>=1.9.0->OpenAI)\n",
      "  Downloading typing_inspection-0.4.2-py3-none-any.whl.metadata (2.6 kB)\n",
      "Downloading openai-2.3.0-py3-none-any.whl (999 kB)\n",
      "\u001b[2K   \u001b[90m━━━━━━━━━━━━━━━━━━━━━━━━━━━━━━━━━━━━━━━━\u001b[0m \u001b[32m999.8/999.8 kB\u001b[0m \u001b[31m15.2 MB/s\u001b[0m  \u001b[33m0:00:00\u001b[0m\n",
      "\u001b[?25hDownloading anyio-4.11.0-py3-none-any.whl (109 kB)\n",
      "Downloading distro-1.9.0-py3-none-any.whl (20 kB)\n",
      "Downloading httpx-0.28.1-py3-none-any.whl (73 kB)\n",
      "Downloading httpcore-1.0.9-py3-none-any.whl (78 kB)\n",
      "Downloading jiter-0.11.0-cp312-cp312-manylinux_2_17_x86_64.manylinux2014_x86_64.whl (347 kB)\n",
      "Downloading pydantic-2.12.0-py3-none-any.whl (459 kB)\n",
      "Downloading pydantic_core-2.41.1-cp312-cp312-manylinux_2_17_x86_64.manylinux2014_x86_64.whl (2.1 MB)\n",
      "\u001b[2K   \u001b[90m━━━━━━━━━━━━━━━━━━━━━━━━━━━━━━━━━━━━━━━━\u001b[0m \u001b[32m2.1/2.1 MB\u001b[0m \u001b[31m12.7 MB/s\u001b[0m  \u001b[33m0:00:00\u001b[0m\n",
      "\u001b[?25hDownloading typing_extensions-4.15.0-py3-none-any.whl (44 kB)\n",
      "Downloading annotated_types-0.7.0-py3-none-any.whl (13 kB)\n",
      "Downloading h11-0.16.0-py3-none-any.whl (37 kB)\n",
      "Downloading idna-3.11-py3-none-any.whl (71 kB)\n",
      "Downloading sniffio-1.3.1-py3-none-any.whl (10 kB)\n",
      "Downloading tqdm-4.67.1-py3-none-any.whl (78 kB)\n",
      "Downloading typing_inspection-0.4.2-py3-none-any.whl (14 kB)\n",
      "Downloading certifi-2025.10.5-py3-none-any.whl (163 kB)\n",
      "Installing collected packages: typing-extensions, tqdm, sniffio, jiter, idna, h11, distro, certifi, annotated-types, typing-inspection, pydantic-core, httpcore, anyio, pydantic, httpx, OpenAI\n",
      "\u001b[2K   \u001b[90m━━━━━━━━━━━━━━━━━━━━━━━━━━━━━━━━━━━━━━━━\u001b[0m \u001b[32m16/16\u001b[0m [OpenAI]15/16\u001b[0m [OpenAI]c]\n",
      "\u001b[1A\u001b[2KSuccessfully installed OpenAI-2.3.0 annotated-types-0.7.0 anyio-4.11.0 certifi-2025.10.5 distro-1.9.0 h11-0.16.0 httpcore-1.0.9 httpx-0.28.1 idna-3.11 jiter-0.11.0 pydantic-2.12.0 pydantic-core-2.41.1 sniffio-1.3.1 tqdm-4.67.1 typing-extensions-4.15.0 typing-inspection-0.4.2\n"
     ]
    }
   ],
   "source": [
    "! pip install OpenAI"
   ]
  },
  {
   "cell_type": "code",
   "execution_count": 4,
   "id": "3638336e",
   "metadata": {},
   "outputs": [],
   "source": [
    "# import the openai library\n",
    "from openai import OpenAI, api_key, base_url\n",
    "\n",
    "client = OpenAI(\n",
    "    base_url=\"http://localhost:11434/v1\",\n",
    "    api_key = \"ollama\"\n",
    "    )\n",
    "\n",
    "# Get the response\n",
    "response = client.chat.completions.create(\n",
    "  model=\"llama2\",\n",
    "  messages=[\n",
    "    {\"role\": \"system\", \"content\": \"You are a helpful reasearch assistant.\"},\n",
    "    {\"role\": \"user\", \"content\": \"Who won the world series in 2020?\"},\n",
    "    {\"role\": \"assistant\", \"content\": \"From my knowledge, the winner were the LA Dodgers. Do you need anything else?\"}, # how the model will respond or from history.\n",
    "    {\"role\": \"user\", \"content\": \"Where was it played?\"} # next question\n",
    "  ]\n",
    ")"
   ]
  },
  {
   "cell_type": "code",
   "execution_count": null,
   "id": "21740b8c",
   "metadata": {},
   "outputs": [
    {
     "name": "stdout",
     "output_type": "stream",
     "text": [
      "ChatCompletion(id='chatcmpl-861', choices=[Choice(finish_reason='stop', index=0, logprobs=None, message=ChatCompletionMessage(content='The 2020 World Series was played at various locations in the United States due to the ongoing COVID-19 pandemic. Specifically, the series was held at four different stadiums:\\n\\n1. Globe Life Field in Arlington, Texas (Home of the Texas Rangers)\\n2. Dodger Stadium in Los Angeles, California (Home of the Los Angeles Dodgers)\\n3. Oracle Park in San Francisco, California (Home of the San Francisco Giants)\\n4. Tropicana Field in St. Petersburg, Florida (Home of the Tampa Bay Rays)\\n\\nThe LA Dodgers ultimately defeated the Tampa Bay Rays in the series, winning the best-of-seven championship 4 games to 2.', refusal=None, role='assistant', annotations=None, audio=None, function_call=None, tool_calls=None))], created=1760363716, model='llama2', object='chat.completion', service_tier=None, system_fingerprint='fp_ollama', usage=CompletionUsage(completion_tokens=162, prompt_tokens=83, total_tokens=245, completion_tokens_details=None, prompt_tokens_details=None))\n",
      "<class 'openai.types.chat.chat_completion.ChatCompletion'>\n",
      "<class 'tuple'> : ('id', 'chatcmpl-861')\n",
      "<class 'str'>\n",
      "<class 'tuple'> : ('choices', [Choice(finish_reason='stop', index=0, logprobs=None, message=ChatCompletionMessage(content='The 2020 World Series was played at various locations in the United States due to the ongoing COVID-19 pandemic. Specifically, the series was held at four different stadiums:\\n\\n1. Globe Life Field in Arlington, Texas (Home of the Texas Rangers)\\n2. Dodger Stadium in Los Angeles, California (Home of the Los Angeles Dodgers)\\n3. Oracle Park in San Francisco, California (Home of the San Francisco Giants)\\n4. Tropicana Field in St. Petersburg, Florida (Home of the Tampa Bay Rays)\\n\\nThe LA Dodgers ultimately defeated the Tampa Bay Rays in the series, winning the best-of-seven championship 4 games to 2.', refusal=None, role='assistant', annotations=None, audio=None, function_call=None, tool_calls=None))])\n",
      "<class 'list'>\n",
      "<class 'tuple'> : ('created', 1760363716)\n",
      "<class 'int'>\n",
      "<class 'tuple'> : ('model', 'llama2')\n",
      "<class 'str'>\n",
      "<class 'tuple'> : ('object', 'chat.completion')\n",
      "<class 'str'>\n",
      "<class 'tuple'> : ('service_tier', None)\n",
      "<class 'NoneType'>\n",
      "<class 'tuple'> : ('system_fingerprint', 'fp_ollama')\n",
      "<class 'str'>\n",
      "<class 'tuple'> : ('usage', CompletionUsage(completion_tokens=162, prompt_tokens=83, total_tokens=245, completion_tokens_details=None, prompt_tokens_details=None))\n",
      "<class 'openai.types.completion_usage.CompletionUsage'>\n"
     ]
    }
   ],
   "source": [
    "# lets check out the response\n",
    "print(response)\n",
    "# check the type\n",
    "print(type(response))\n",
    "\n",
    "# loop through the returned list\n",
    "for items in response:\n",
    "    print( str(type(items)) + \" : \" + str(items))\n",
    "    print(str(type(items[1])))\n",
    "\n",
    "# response[0]\n",
    "\n"
   ]
  },
  {
   "cell_type": "code",
   "execution_count": 22,
   "id": "f3fe9b72",
   "metadata": {},
   "outputs": [
    {
     "name": "stdout",
     "output_type": "stream",
     "text": [
      "The 2020 World Series was played at various locations in the United States due to the ongoing COVID-19 pandemic. Specifically, the series was held at four different stadiums:\n",
      "\n",
      "1. Globe Life Field in Arlington, Texas (Home of the Texas Rangers)\n",
      "2. Dodger Stadium in Los Angeles, California (Home of the Los Angeles Dodgers)\n",
      "3. Oracle Park in San Francisco, California (Home of the San Francisco Giants)\n",
      "4. Tropicana Field in St. Petersburg, Florida (Home of the Tampa Bay Rays)\n",
      "\n",
      "The LA Dodgers ultimately defeated the Tampa Bay Rays in the series, winning the best-of-seven championship 4 games to 2.\n"
     ]
    }
   ],
   "source": [
    "# chat response\n",
    "print(response.choices[0].message.content)"
   ]
  },
  {
   "cell_type": "code",
   "execution_count": 27,
   "id": "7f7e2627",
   "metadata": {},
   "outputs": [],
   "source": [
    "last_response = response.choices[0].message.content # using the last response\n",
    "\n",
    "response = client.chat.completions.create(\n",
    "  model=\"llama2\",\n",
    "  messages=[\n",
    "    {\"role\": \"system\", \"content\": \"You are a helpful reasearch assistant.\"},\n",
    "    {\"role\": \"user\", \"content\": \"Who won the world series in 2020?\"},\n",
    "    {\"role\": \"assistant\", \"content\": \"From my knowledge, the winner were the LA Dodgers. Do you need anything else?\"}, # how the model will respond or from history.\n",
    "    {\"role\": \"user\", \"content\": \"Where was it played?\"},\n",
    "    {\"role\": \"assistant\", \"content\" : last_response},\n",
    "    {\"role\":\"user\",\"content\":\"Can you tell me anything unique about that year?\"}\n",
    "  ]\n",
    ")"
   ]
  },
  {
   "cell_type": "code",
   "execution_count": 28,
   "id": "0761ed58",
   "metadata": {},
   "outputs": [
    {
     "name": "stdout",
     "output_type": "stream",
     "text": [
      "Certainly! 2020 was a unique year for many reasons, including the impact of the COVID-19 pandemic on the sports world. Here are some interesting facts and tidbits about 2020:\n",
      "\n",
      "1. First Time in History: As I mentioned earlier, the 2020 World Series was the first time in history that no games were played in October due to the pandemic. This disrupted the traditional schedule of postseason play, which usually takes place in October and November.\n",
      "2. MLB Season Shortened: The 2020 MLB season was shortened to 60 games per team, down from the usual 162, due to the pandemic. This was the first time since World War II that the regular season had been shortened.\n",
      "3. Homefield Advantage Changed: As I mentioned earlier, the homefield advantage was split between the LA Dodgers and Tampa Bay Rays in the World Series. This was the first time ever that both teams had homefield advantage in the same series.\n",
      "4. Expanded Playoffs: To make up for lost games during the regular season, Major League Baseball expanded the postseason to include 16 teams in each league, up from the usual 10. This allowed more teams to qualify for the playoffs and increased the chances of smaller market teams competing against larger market teams.\n",
      "5. Rookie Sensations: The 2020 season saw a number of impressive rookies make their mark on the league, including Cody Bellinger of the LA Dodgers, Jonathan Indians's Andrés Giménez, and San Diego Padres's Luis Urias.\n",
      "6. New Rule Changes: In response to the pandemic and in an effort to speed up the game, Major League Baseball introduced several new rule changes for the 2020 season, including a pitch clock, limits on mound visits, and a ban on pickoff throws to first base.\n",
      "7. Global Attention: Despite the challenges posed by the pandemic, the 2020 World Series drew significant global attention and viewership, with many fans following along online or via simulcasts in stadiums that were allowed to open at reduced capacity.\n",
      "8. Innovative Fan Engagement: The pandemic also led to new innovations in fan engagement, such as the use of virtual reality experiences for in-stadium spectators and expanded social media coverage of games and related events.\n",
      "9. Player Strike: Before the start of the season, players from several teams went on strike over issues related to health and safety protocols during the pandemic. The strike lasted for several days before a resolution was reached.\n",
      "10. Emotional Highlights: The 2020 World Series featured several emotional moments, including a walk-off home run by the LA Dodgers' Cody Bellinger in Game 7 and a heartfelt goodbye ceremony for retiring Rays pitcher Charlie Morton.\n",
      "\n",
      "These are just a few of the unique aspects of 2020. Do you have any specific questions about it?\n"
     ]
    }
   ],
   "source": [
    "last_response2 = response.choices[0].message.content\n",
    "print(last_response2)"
   ]
  },
  {
   "cell_type": "code",
   "execution_count": 29,
   "id": "177b72c5",
   "metadata": {},
   "outputs": [],
   "source": [
    "response = client.chat.completions.create(\n",
    "  model=\"llama2\",\n",
    "  messages=[\n",
    "    {\"role\": \"system\", \"content\": \"You are a helpful reasearch assistant.\"},\n",
    "    {\"role\": \"user\", \"content\": \"Who won the world series in 2020?\"},\n",
    "    {\"role\": \"assistant\", \"content\": \"From my knowledge, the winner were the LA Dodgers. Do you need anything else?\"}, # how the model will respond or from history.\n",
    "    {\"role\": \"user\", \"content\": \"Where was it played?\"},\n",
    "    {\"role\": \"assistant\", \"content\" : last_response},\n",
    "    {\"role\":\"user\",\"content\":\"Can you tell me anything unique about that year?\"},\n",
    "    {\"role\": \"assistant\", \"content\" : last_response2},\n",
    "    {\"role\":\"user\",\"content\":\"As a commentator, could you compare that year with the previous year in a paragraph?\"}\n",
    "  ]\n",
    ")"
   ]
  },
  {
   "cell_type": "code",
   "execution_count": 31,
   "id": "d12e418a",
   "metadata": {},
   "outputs": [
    {
     "name": "stdout",
     "output_type": "stream",
     "text": [
      "Certainly! Here's a comparison between the 2019 and 2020 World Series seasons:\n",
      "\n",
      "In 2019, the Boston Red Sox defeated the Houston Astros in the World Series, marking the team's fourth title in the past 15 years. The series was notable for its exciting finish, with the Red Sox winning Games 4 and 5 on walk-off home runs. In contrast, the 2020 World Series saw the LA Dodgers defeat the Tampa Bay Rays in a shorter series due to the COVID-19 pandemic. While the 2019 series was marked by dominant pitching performances and an exciting finish, the 2020 series was impacted by the pandemic, resulting in a different type of drama as teams navigated shortened schedules, expanded playoffs, and new rule changes. Despite these differences, both years showcased the excitement and unpredictability of the World Series, demonstrating why it remains one of the most beloved events in sports.\n"
     ]
    }
   ],
   "source": [
    "last_response_3 = response.choices[0].message.content\n",
    "print(last_response_3)"
   ]
  }
 ],
 "metadata": {
  "kernelspec": {
   "display_name": ".venv",
   "language": "python",
   "name": "python3"
  },
  "language_info": {
   "codemirror_mode": {
    "name": "ipython",
    "version": 3
   },
   "file_extension": ".py",
   "mimetype": "text/x-python",
   "name": "python",
   "nbconvert_exporter": "python",
   "pygments_lexer": "ipython3",
   "version": "3.12.3"
  }
 },
 "nbformat": 4,
 "nbformat_minor": 5
}
