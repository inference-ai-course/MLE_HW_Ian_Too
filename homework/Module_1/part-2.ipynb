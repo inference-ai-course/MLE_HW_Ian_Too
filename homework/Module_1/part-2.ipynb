{
 "cells": [
  {
   "cell_type": "markdown",
   "id": "56c0608c",
   "metadata": {},
   "source": [
    "# Homework Part 2: Ollama\n",
    "\n",
    "### Task 2.1. : Installing Ollama\n",
    "\n",
    "Tasks:\n",
    "\n",
    "- refer to [Ollama](https://ollama.ai/) to complete installation.  \n",
    "- Run `ollama run llama2` from the command line to download and launch the `llama2` model.\n",
    "\n",
    "S#### Screenshot\n",
    "\n",
    "![Screenshot](#)\n",
    "\n",
    "\n",
    "\n",
    "### Task 2.2. : Use Ollama to call OpenAI API\n",
    "\n",
    "Tasks: *Ollama now has built-in compatibility with the OpenAI Chat Completions API, making it possible to use more tooling and applications with Ollama locally.*\n",
    "\n",
    "\n",
    "#### Screenshot\n",
    "\n",
    "![Screenshot](#)\n"
   ]
  }
 ],
 "metadata": {
  "language_info": {
   "name": "python"
  }
 },
 "nbformat": 4,
 "nbformat_minor": 5
}
