{
 "cells": [
  {
   "cell_type": "markdown",
   "id": "510d4ce6",
   "metadata": {},
   "source": [
    "# Module 1: Homework 1\n",
    "\n",
    "This is Ian's week 1, module 1 homework notebook."
   ]
  },
  {
   "cell_type": "code",
   "execution_count": 1,
   "id": "bf50e624",
   "metadata": {},
   "outputs": [
    {
     "name": "stdout",
     "output_type": "stream",
     "text": [
      "Collecting python-dotenv\n",
      "  Downloading python_dotenv-1.1.1-py3-none-any.whl.metadata (24 kB)\n",
      "Downloading python_dotenv-1.1.1-py3-none-any.whl (20 kB)\n",
      "Installing collected packages: python-dotenv\n",
      "Successfully installed python-dotenv-1.1.1\n"
     ]
    }
   ],
   "source": [
    "# We want to use environment variables in our project\n",
    "# Install the python-dotenv package to load environment variables from a .env file\n",
    "\n",
    "! pip install python-dotenv"
   ]
  },
  {
   "cell_type": "markdown",
   "id": "33155efb",
   "metadata": {},
   "source": [
    "Checking to see if the dotenv package works. We want to hide our sensitive keys from the public."
   ]
  },
  {
   "cell_type": "code",
   "execution_count": 3,
   "id": "bbdf373b",
   "metadata": {},
   "outputs": [
    {
     "name": "stdout",
     "output_type": "stream",
     "text": [
      "1234\n"
     ]
    }
   ],
   "source": [
    "# import the dotenv package and load the .env file\n",
    "import dotenv\n",
    "# load the .env file from the parent directory\n",
    "dotenv.load_dotenv(dotenv_path=\"../../.env.local\")\n",
    "\n",
    "# import the os package to access environment variables\n",
    "import os\n",
    "\n",
    "# print an example environment variable\n",
    "print(os.getenv(\"EXAMPLE_KEY\"))  # should print 1234"
   ]
  }
 ],
 "metadata": {
  "kernelspec": {
   "display_name": ".venv",
   "language": "python",
   "name": "python3"
  },
  "language_info": {
   "codemirror_mode": {
    "name": "ipython",
    "version": 3
   },
   "file_extension": ".py",
   "mimetype": "text/x-python",
   "name": "python",
   "nbconvert_exporter": "python",
   "pygments_lexer": "ipython3",
   "version": "3.12.3"
  }
 },
 "nbformat": 4,
 "nbformat_minor": 5
}
