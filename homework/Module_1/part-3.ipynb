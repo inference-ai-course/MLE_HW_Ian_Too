{
 "cells": [
  {
   "cell_type": "markdown",
   "id": "b9e75d49",
   "metadata": {},
   "source": [
    "# Part 3: Lanchain + Ollama\n",
    "\n",
    "## Task:\n",
    "\n",
    "\n",
    "#### Screenshot:\n",
    "\n",
    "![Screenshot](#)"
   ]
  },
  {
   "cell_type": "code",
   "execution_count": null,
   "id": "e59d515d",
   "metadata": {
    "vscode": {
     "languageId": "plaintext"
    }
   },
   "outputs": [],
   "source": []
  },
  {
   "cell_type": "markdown",
   "id": "371472c0",
   "metadata": {},
   "source": [
    "## Task: - Advance Work\n",
    "\n",
    "Integrate the Ollama and Langchain tasks into **Gradio Web UI**, which will be useful for building Proxy AI-Agent interface translation with front-end, and demonstrate your work.\n"
   ]
  }
 ],
 "metadata": {
  "language_info": {
   "name": "python"
  }
 },
 "nbformat": 4,
 "nbformat_minor": 5
}
